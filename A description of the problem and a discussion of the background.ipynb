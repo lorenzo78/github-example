{
    "cells": [
        {
            "metadata": {
                "collapsed": true
            },
            "cell_type": "markdown",
            "source": "# __A Description of the problem and a discussion on the background__ #"
        },
        {
            "metadata": {},
            "cell_type": "markdown",
            "source": "### _Business Understanding_ ###\n\nAccidents occur everyday. Specially, in roads and affect the lives of every member of the society.. These events occur usually because of human behavior or machine failure. This represents, of course, an undesired event as accidents happen unexpectedly and unintentionally and can damage road infrastructure, people's health and people's proprerties. More than 38,000 people die every year in crashes on U.S. roadways. The U.S. traffic fatality rate is 12.4 deaths per 100,000 inhabitants. An additional 4.4 million are injured seriously enough to require medical attention. Road crashes are the leading cause of death in the U.S. for people aged 1-54.\nInternationally, nearly 1.3 million people die every year from car accidents. In fact, road traffic crashes rank as the 9th leading cause of death and accounts for 2.2% of all deaths globally.\n\nTherefore, such problems, must be mitigated. They can be prevented if proper data is gathered and crucial variables are taken into account to analyze, recognize and classify why an accident occurs. Of course this must be done through meticulous data data analysis and modelling.\nFor a proper analysis, first we make assumptions. We will need to gather all the information and knowledge available on the subject at hand and ask ourselver:\n\n1. at what time in the day an accident is likely to occur?\n2. accidents happen usually during weekdays or weekends?\n3. in which area car accidents are more likely to occur? \n4. on which kind of roads are accidents more likely to occur? are accidents more likely to occur at cross-roads or on highways?\n5. do accidents occur more frequently among young/teenagers or adults/elderly? can we get any useful data from demographics analysis?\n6. how does the variable \"weather conditions\" affect car accidents on average?\n\nAnd so on.. \n\nSo we've desribed the scenario and the variables to look at are countless. Location, weather conditions, Road conditions, Light conditions, Day of the week, junction typ and so on. The objective of this project is to propose a model to better handle this issue and try to solve or improve certain services such as:\n\n1. safe route planning\n2. emergency vehicle allocation\n3. roadway design\n4. where to place additional signage\n\nAfter having evaluated the scenario/environment of car accidents let's talk about data in the next section\n\n\n\n"
        },
        {
            "metadata": {},
            "cell_type": "code",
            "source": "",
            "execution_count": null,
            "outputs": []
        }
    ],
    "metadata": {
        "kernelspec": {
            "name": "python3",
            "display_name": "Python 3.6",
            "language": "python"
        },
        "language_info": {
            "name": "python",
            "version": "3.6.9",
            "mimetype": "text/x-python",
            "codemirror_mode": {
                "name": "ipython",
                "version": 3
            },
            "pygments_lexer": "ipython3",
            "nbconvert_exporter": "python",
            "file_extension": ".py"
        }
    },
    "nbformat": 4,
    "nbformat_minor": 1
}